{
 "cells": [
  {
   "cell_type": "code",
   "execution_count": 1,
   "metadata": {},
   "outputs": [],
   "source": [
    "import numpy as np"
   ]
  },
  {
   "cell_type": "code",
   "execution_count": 5,
   "metadata": {},
   "outputs": [
    {
     "data": {
      "text/html": [
       "<div>\n",
       "<style scoped>\n",
       "    .dataframe tbody tr th:only-of-type {\n",
       "        vertical-align: middle;\n",
       "    }\n",
       "\n",
       "    .dataframe tbody tr th {\n",
       "        vertical-align: top;\n",
       "    }\n",
       "\n",
       "    .dataframe thead th {\n",
       "        text-align: right;\n",
       "    }\n",
       "</style>\n",
       "<table border=\"1\" class=\"dataframe\">\n",
       "  <thead>\n",
       "    <tr style=\"text-align: right;\">\n",
       "      <th></th>\n",
       "      <th>datetime</th>\n",
       "      <th>open</th>\n",
       "      <th>high</th>\n",
       "      <th>low</th>\n",
       "      <th>close</th>\n",
       "      <th>volume</th>\n",
       "      <th>hold</th>\n",
       "    </tr>\n",
       "  </thead>\n",
       "  <tbody>\n",
       "    <tr>\n",
       "      <th>0</th>\n",
       "      <td>2020-12-11 22:25:00</td>\n",
       "      <td>1325.0</td>\n",
       "      <td>1328.0</td>\n",
       "      <td>1324.0</td>\n",
       "      <td>1326.0</td>\n",
       "      <td>5206</td>\n",
       "      <td>222224</td>\n",
       "    </tr>\n",
       "    <tr>\n",
       "      <th>1</th>\n",
       "      <td>2020-12-11 22:30:00</td>\n",
       "      <td>1327.0</td>\n",
       "      <td>1328.0</td>\n",
       "      <td>1326.0</td>\n",
       "      <td>1326.0</td>\n",
       "      <td>2361</td>\n",
       "      <td>222038</td>\n",
       "    </tr>\n",
       "    <tr>\n",
       "      <th>2</th>\n",
       "      <td>2020-12-11 22:35:00</td>\n",
       "      <td>1326.0</td>\n",
       "      <td>1329.0</td>\n",
       "      <td>1325.0</td>\n",
       "      <td>1327.0</td>\n",
       "      <td>5009</td>\n",
       "      <td>221855</td>\n",
       "    </tr>\n",
       "    <tr>\n",
       "      <th>3</th>\n",
       "      <td>2020-12-11 22:40:00</td>\n",
       "      <td>1328.0</td>\n",
       "      <td>1329.0</td>\n",
       "      <td>1327.0</td>\n",
       "      <td>1328.0</td>\n",
       "      <td>2367</td>\n",
       "      <td>221349</td>\n",
       "    </tr>\n",
       "    <tr>\n",
       "      <th>4</th>\n",
       "      <td>2020-12-11 22:45:00</td>\n",
       "      <td>1328.0</td>\n",
       "      <td>1328.0</td>\n",
       "      <td>1317.0</td>\n",
       "      <td>1319.0</td>\n",
       "      <td>24419</td>\n",
       "      <td>220534</td>\n",
       "    </tr>\n",
       "  </tbody>\n",
       "</table>\n",
       "</div>"
      ],
      "text/plain": [
       "              datetime    open    high     low   close  volume    hold\n",
       "0  2020-12-11 22:25:00  1325.0  1328.0  1324.0  1326.0    5206  222224\n",
       "1  2020-12-11 22:30:00  1327.0  1328.0  1326.0  1326.0    2361  222038\n",
       "2  2020-12-11 22:35:00  1326.0  1329.0  1325.0  1327.0    5009  221855\n",
       "3  2020-12-11 22:40:00  1328.0  1329.0  1327.0  1328.0    2367  221349\n",
       "4  2020-12-11 22:45:00  1328.0  1328.0  1317.0  1319.0   24419  220534"
      ]
     },
     "execution_count": 5,
     "metadata": {},
     "output_type": "execute_result"
    }
   ],
   "source": [
    "import akshare as ak\n",
    "\n",
    "history_df = ak.futures_zh_minute_sina(symbol=\"sa2101\", period=5)\n",
    "history_df.head()"
   ]
  },
  {
   "cell_type": "code",
   "execution_count": 12,
   "metadata": {},
   "outputs": [
    {
     "name": "stdout",
     "output_type": "stream",
     "text": [
      "89580.0 nan\n"
     ]
    },
    {
     "name": "stderr",
     "output_type": "stream",
     "text": [
      "d:\\anaconda\\lib\\site-packages\\numpy\\core\\fromnumeric.py:3440: RuntimeWarning: Mean of empty slice.\n",
      "  return _methods._mean(a, axis=axis, dtype=dtype,\n",
      "d:\\anaconda\\lib\\site-packages\\numpy\\core\\_methods.py:189: RuntimeWarning: invalid value encountered in double_scalars\n",
      "  ret = ret.dtype.type(ret / rcount)\n"
     ]
    }
   ],
   "source": [
    "# macd\n",
    "\n",
    "with open(\"../backtest_big_trend_macd.log\", \"r\") as f:\n",
    "    data = f.readlines()\n",
    "\n",
    "cash = 0\n",
    "win_rate = []\n",
    "for line in data:\n",
    "    if line.startswith(\"净收益\"):\n",
    "        cash += float(line.split(\":\")[-1].strip())\n",
    "    if line.startswith(\"win rate\"):\n",
    "        win_rate.append(float(line.split(\"\\t\")[-1].strip()))\n",
    "print(cash, np.mean(win_rate))"
   ]
  },
  {
   "cell_type": "code",
   "execution_count": null,
   "metadata": {},
   "outputs": [],
   "source": []
  },
  {
   "cell_type": "code",
   "execution_count": 8,
   "metadata": {},
   "outputs": [
    {
     "name": "stdout",
     "output_type": "stream",
     "text": [
      "1900.0 0.4600357142857144\n"
     ]
    }
   ],
   "source": [
    "# macd+sar， +单独sar\n",
    "with open(\"../backtest.log\", \"r\") as f:\n",
    "    data = f.readlines()\n",
    "\n",
    "cash = 0\n",
    "win_rate = []\n",
    "for line in data:\n",
    "    if line.startswith(\"净收益\"):\n",
    "        cash += float(line.split(\":\")[-1].strip())\n",
    "    if line.startswith(\"win rate\"):\n",
    "        win_rate.append(float(line.split(\"\\t\")[-1].strip()))\n",
    "print(cash, np.mean(win_rate))"
   ]
  },
  {
   "cell_type": "code",
   "execution_count": 4,
   "metadata": {},
   "outputs": [
    {
     "name": "stdout",
     "output_type": "stream",
     "text": [
      "4170.0 0.4650714285714286\n"
     ]
    }
   ],
   "source": [
    "# 只有macd+sar，和一堆条件\n",
    "with open(\"../backtest.log\", \"r\") as f:\n",
    "    data = f.readlines()\n",
    "\n",
    "\n",
    "cash = 0\n",
    "win_rate = []\n",
    "for line in data:\n",
    "    if line.startswith(\"净收益\"):\n",
    "        cash += float(line.split(\":\")[-1].strip())\n",
    "    if line.startswith(\"win rate\"):\n",
    "        win_rate.append(float(line.split(\"\\t\")[-1].strip()))\n",
    "print(cash, np.mean(win_rate))"
   ]
  },
  {
   "cell_type": "code",
   "execution_count": 6,
   "metadata": {},
   "outputs": [
    {
     "name": "stdout",
     "output_type": "stream",
     "text": [
      "-710.0 0.31975\n"
     ]
    }
   ],
   "source": [
    "# 只有sar,， 附加一堆条件\n",
    "with open(\"../backtest.log\", \"r\") as f:\n",
    "    data = f.readlines()\n",
    "\n",
    "cash = 0\n",
    "win_rate = []\n",
    "for line in data:\n",
    "    if line.startswith(\"净收益\"):\n",
    "        cash += float(line.split(\":\")[-1].strip())\n",
    "    if line.startswith(\"win rate\"):\n",
    "        win_rate.append(float(line.split(\"\\t\")[-1].strip()))\n",
    "print(cash, np.mean(win_rate))"
   ]
  },
  {
   "cell_type": "code",
   "execution_count": 7,
   "metadata": {},
   "outputs": [
    {
     "name": "stdout",
     "output_type": "stream",
     "text": [
      "10510.0 0.48724999999999996\n"
     ]
    }
   ],
   "source": [
    "# 只有sar， 没有附加条件\n",
    "with open(\"../backtest.log\", \"r\") as f:\n",
    "    data = f.readlines()\n",
    "\n",
    "cash = 0\n",
    "win_rate = []\n",
    "for line in data:\n",
    "    if line.startswith(\"净收益\"):\n",
    "        cash += float(line.split(\":\")[-1].strip())\n",
    "    if line.startswith(\"win rate\"):\n",
    "        win_rate.append(float(line.split(\"\\t\")[-1].strip()))\n",
    "print(cash, np.mean(win_rate))"
   ]
  },
  {
   "cell_type": "code",
   "execution_count": 8,
   "metadata": {},
   "outputs": [
    {
     "name": "stdout",
     "output_type": "stream",
     "text": [
      "7970.0 0.439607142857143\n"
     ]
    }
   ],
   "source": [
    "# 只有sar， 附加ma20 同趋势\n",
    "with open(\"../backtest.log\", \"r\") as f:\n",
    "    data = f.readlines()\n",
    "\n",
    "cash = 0\n",
    "win_rate = []\n",
    "for line in data:\n",
    "    if line.startswith(\"净收益\"):\n",
    "        cash += float(line.split(\":\")[-1].strip())\n",
    "    if line.startswith(\"win rate\"):\n",
    "        win_rate.append(float(line.split(\"\\t\")[-1].strip()))\n",
    "print(cash, np.mean(win_rate))"
   ]
  },
  {
   "cell_type": "code",
   "execution_count": 9,
   "metadata": {},
   "outputs": [
    {
     "name": "stdout",
     "output_type": "stream",
     "text": [
      "5790.0 0.46839285714285717\n"
     ]
    }
   ],
   "source": [
    "# 只有macd， 没有附加条件\n",
    "with open(\"../backtest.log\", \"r\") as f:\n",
    "    data = f.readlines()\n",
    "\n",
    "cash = 0\n",
    "win_rate = []\n",
    "for line in data:\n",
    "    if line.startswith(\"净收益\"):\n",
    "        cash += float(line.split(\":\")[-1].strip())\n",
    "    if line.startswith(\"win rate\"):\n",
    "        win_rate.append(float(line.split(\"\\t\")[-1].strip()))\n",
    "print(cash, np.mean(win_rate))"
   ]
  },
  {
   "cell_type": "code",
   "execution_count": 11,
   "metadata": {},
   "outputs": [
    {
     "name": "stdout",
     "output_type": "stream",
     "text": [
      "5550.0 0.4504642857142857\n"
     ]
    }
   ],
   "source": [
    "# 只有macd， 加 close > ma20, ma50 同趋势\n",
    "with open(\"../backtest.log\", \"r\") as f:\n",
    "    data = f.readlines()\n",
    "\n",
    "cash = 0\n",
    "win_rate = []\n",
    "for line in data:\n",
    "    if line.startswith(\"净收益\"):\n",
    "        cash += float(line.split(\":\")[-1].strip())\n",
    "    if line.startswith(\"win rate\"):\n",
    "        win_rate.append(float(line.split(\"\\t\")[-1].strip()))\n",
    "print(cash, np.mean(win_rate))"
   ]
  },
  {
   "cell_type": "code",
   "execution_count": null,
   "metadata": {},
   "outputs": [],
   "source": []
  }
 ],
 "metadata": {
  "kernelspec": {
   "display_name": "quant",
   "language": "python",
   "name": "python3"
  },
  "language_info": {
   "codemirror_mode": {
    "name": "ipython",
    "version": 3
   },
   "file_extension": ".py",
   "mimetype": "text/x-python",
   "name": "python",
   "nbconvert_exporter": "python",
   "pygments_lexer": "ipython3",
   "version": "3.9.13"
  }
 },
 "nbformat": 4,
 "nbformat_minor": 2
}
